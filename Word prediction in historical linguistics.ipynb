{
 "cells": [
  {
   "cell_type": "markdown",
   "metadata": {},
   "source": [
    "# Word prediction in historical linguistics\n",
    "This is a Jupyter notebook and Python library to demonstrate the use of word prediction using deep learning as an aid in historical linguistics. This notebook accompanies the following paper: Dekker, P. & Zuidema, W. (2021). Word Prediction in Computational Historical Linguistics. _Journal of Language Modelling_ (forthcoming). The results yielded by this demonstrational notebook may differ somewhat from the results in the article.\n",
    "\n",
    "Any questions or problems?\n",
    " * [Contact me](https://peterdekker.eu/#contact)\n",
    " * [File a bug report](https://github.com/peterdekker/prediction-histling/issues)"
   ]
  },
  {
   "cell_type": "markdown",
   "metadata": {},
   "source": [
    "## Prerequisites"
   ]
  },
  {
   "cell_type": "markdown",
   "metadata": {},
   "source": [
    "### Application and data loading\n",
    "**Run this cell before running other cells.** Execution of this cell takes a long time the first time, since automatic cognate judgments (using external LexStat algorithm) are inferred for the whole data set. These cognate judgments are used to perform evaluation of the word prediction algorithm. To enable GPU support for the encoder-decoder, refer to the [Theano documentation](http://deeplearning.net/software/theano/tutorial/using_gpu.html).\n",
    "\n",
    "The following settings can be changed by the user. **The kernel should be restarted (Kernel > Restart) after changing options.**\n",
    " * Set languages by alternatively setting one of these two variables:\n",
    "   * `languages`: Give a list of languages (language codes from [NorthEuraLex](http://northeuralex.org/languages)) to take under consideration.\n",
    "   * `lang_family`: `None`, `slav` or `ger`. If `lang_family` has been set (not `None`), `languages` will be disregarded. If `lang_family` is `None`, `languages` will be used.\n",
    " * `cognate_detection`: `False` by default, which allows multiple forms per concept, which leads to a larger data set. If you would like to be able to perform cognate detection based on prediction results (a later step in this notebook), set this variable to `True`, which restricts the data set to one form per concept.\n",
    "\n",
    " * `input_encoding`: the procedure used to encode phonemes into input vectors. `embedding` by default. Can be set to `character` (one-hot), `phonetic` or `embedding`.\n",
    " * `export_weights`: `False` by default. Set to `True` to be able to export and visualize the weights of the encoder-decoder. Do this only for diagnostic/visualization purposes, because the batch size will be set to 1, which does not give optimal performance.\n",
    " * `view_embedding_ipa`: `True` by default. Internally, the ASJP character set is used to predict words. To view the embedding encoding visualization as IPA, set this to True. If False, embedding encoding visualization will be shown in ASJP. Note: this option is purely aesthetical.\n",
    "\n",
    "\n",
    "Other, more advanced, options can be set in the file `util/config.py`."
   ]
  },
  {
   "cell_type": "code",
   "execution_count": 2,
   "metadata": {
    "ExecuteTime": {
     "end_time": "2019-08-08T15:07:51.388051Z",
     "start_time": "2019-08-08T15:07:14.853998Z"
    }
   },
   "outputs": [
    {
     "name": "stdout",
     "output_type": "stream",
     "text": [
      "Initializing program...\n"
     ]
    },
    {
     "name": "stderr",
     "output_type": "stream",
     "text": [
      "2021-01-11 12:58:05,058 [INFO] Successfully changed parameters.\n"
     ]
    },
    {
     "name": "stdout",
     "output_type": "stream",
     "text": [
      "Downloading CLTS from https://github.com/cldf-clts/clts/archive/v1.4.1.tar.gz\n",
      "Unpacking archive and deleting archive file.\n",
      "Loading phonetic feature matrix...\n",
      "Generating all language pairs...\n",
      "Training corpus:\n",
      " - Loading dataset and performing necessary conversion/tokenization.\n",
      "Using existing wordlist file, nothing is generated.\n",
      " - Detect cognates in entire dataset using LexStat.\n",
      "Using existing cognates file output/northeuralex-asjp-cognates.tsv, nothing is generated.\n",
      "Train corpus is valtest corpus.\n",
      "Creating feature matrix for this specific language pair...\n",
      " - Creating embedding for nld\n",
      " -- Using existing embedding file for nld\n",
      "Converting training corpus TSV file to data matrix...\n",
      "Converting val/test corpus TSV file to data matrix...\n",
      "USE TRAIN M/S\n",
      "Dividing into training, validation and test set...\n",
      "Train/val/test sizes: 723|0|0\n",
      "Train/val/test sizes: 0|230|230\n",
      "Filtering val/test sets on cognates...\n",
      "Val/test sizes after cognate filtering: 157|135\n",
      "Creating feature matrix for this specific language pair...\n",
      " - Creating embedding for nld\n",
      " -- Using existing embedding file for nld\n",
      "Converting training corpus TSV file to data matrix...\n",
      "Converting val/test corpus TSV file to data matrix...\n",
      "USE TRAIN M/S\n",
      "Dividing into training, validation and test set...\n",
      "Train/val/test sizes: 729|0|0\n",
      "Train/val/test sizes: 0|230|230\n",
      "Filtering val/test sets on cognates...\n",
      "Val/test sizes after cognate filtering: 60|77\n",
      "Creating feature matrix for this specific language pair...\n",
      " - Creating embedding for deu\n",
      " -- Using existing embedding file for deu\n",
      "Converting training corpus TSV file to data matrix...\n",
      "Converting val/test corpus TSV file to data matrix...\n",
      "USE TRAIN M/S\n",
      "Dividing into training, validation and test set...\n",
      "Train/val/test sizes: 723|0|0\n",
      "Train/val/test sizes: 0|230|230\n",
      "Filtering val/test sets on cognates...\n",
      "Val/test sizes after cognate filtering: 157|135\n",
      "Creating feature matrix for this specific language pair...\n",
      " - Creating embedding for deu\n",
      " -- Using existing embedding file for deu\n",
      "Converting training corpus TSV file to data matrix...\n",
      "Converting val/test corpus TSV file to data matrix...\n",
      "USE TRAIN M/S\n",
      "Dividing into training, validation and test set...\n",
      "Train/val/test sizes: 621|0|0\n",
      "Train/val/test sizes: 0|200|200\n",
      "Filtering val/test sets on cognates...\n",
      "Val/test sizes after cognate filtering: 61|55\n",
      "Creating feature matrix for this specific language pair...\n",
      " - Creating embedding for eng\n",
      " -- Using existing embedding file for eng\n",
      "Converting training corpus TSV file to data matrix...\n",
      "Converting val/test corpus TSV file to data matrix...\n",
      "USE TRAIN M/S\n",
      "Dividing into training, validation and test set...\n",
      "Train/val/test sizes: 729|0|0\n",
      "Train/val/test sizes: 0|230|230\n",
      "Filtering val/test sets on cognates...\n",
      "Val/test sizes after cognate filtering: 60|77\n",
      "Creating feature matrix for this specific language pair...\n",
      " - Creating embedding for eng\n",
      " -- Using existing embedding file for eng\n",
      "Converting training corpus TSV file to data matrix...\n",
      "Converting val/test corpus TSV file to data matrix...\n",
      "USE TRAIN M/S\n",
      "Dividing into training, validation and test set...\n",
      "Train/val/test sizes: 621|0|0\n",
      "Train/val/test sizes: 0|200|200\n",
      "Filtering val/test sets on cognates...\n",
      "Val/test sizes after cognate filtering: 61|55\n",
      "Done loading data.\n"
     ]
    }
   ],
   "source": [
    "from util import init\n",
    "from dataset import data\n",
    "from util.config import config\n",
    "import pandas as pd\n",
    "import sys\n",
    "\n",
    "lang_family_dict = {\n",
    "\"slav\": [\"ces\", \"bul\", \"rus\", \"bel\", \"ukr\", \"pol\", \"slk\", \"slv\", \"hrv\"],\n",
    "\"ger\": [\"swe\", \"isl\", \"eng\", \"nld\", \"deu\", \"dan\", \"nor\"]\n",
    "}\n",
    "\n",
    "#--------------------------------------------------------------------\n",
    "# VARIABLES TO BE SET BY USER\n",
    "languages = [\"nld\",\"deu\",\"eng\"]\n",
    "lang_family = None\n",
    "cognate_detection = False\n",
    "config[\"export_weights\"] = False\n",
    "config[\"input_encoding\"] = \"embedding\"\n",
    "config[\"view_embedding_ipa\"] = True\n",
    "#--------------------------------------------------------------------\n",
    "\n",
    "i_enc = config[\"input_encoding\"]\n",
    "o_enc = config[\"output_encoding\"]\n",
    "\n",
    "if config[\"export_weights\"]:\n",
    "    config[\"batch_size\"]=1\n",
    "\n",
    "if lang_family:\n",
    "    languages = lang_family_dict[lang_family]\n",
    "\n",
    "options, distances_path, baselines_path = init.initialize_program(cognate_detection, config=config)\n",
    "(results_path, output_path_cognates_train, output_path_cognates_valtest,\n",
    "context_vectors_path, subs_sp_path, subs_st_path, lang_pairs, train, val, test, max_len, \n",
    "conversion_key, voc_size, feature_matrix_phon) = data.load_data(train_corpus=\"northeuralex\",\n",
    "                                                               valtest_corpus=\"northeuralex\",\n",
    "                                                               languages=languages,  \n",
    "                                                               input_type=\"asjp\", \n",
    "                                                               options=options,\n",
    "                                                               cognate_detection=False,\n",
    "                                                               config=config)"
   ]
  },
  {
   "cell_type": "markdown",
   "metadata": {},
   "source": [
    "### Visualize encoding\n",
    "Visualize the representation of phonemes in the embedding encoding, as PCA and as hierarchically clustered tree. Compare them to the phonetic feature matrix from Brown (2008)."
   ]
  },
  {
   "cell_type": "code",
   "execution_count": 3,
   "metadata": {
    "ExecuteTime": {
     "end_time": "2019-08-08T14:42:48.160590Z",
     "start_time": "2019-08-08T12:37:17.651Z"
    }
   },
   "outputs": [
    {
     "ename": "TypeError",
     "evalue": "__init__() got an unexpected keyword argument 'laterality'",
     "output_type": "error",
     "traceback": [
      "\u001b[0;31m---------------------------------------------------------------------------\u001b[0m",
      "\u001b[0;31mTypeError\u001b[0m                                 Traceback (most recent call last)",
      "\u001b[0;32m<ipython-input-3-37c4fb5ede2c>\u001b[0m in \u001b[0;36m<module>\u001b[0;34m\u001b[0m\n\u001b[1;32m      2\u001b[0m \u001b[0;32mfrom\u001b[0m \u001b[0mvisualize\u001b[0m \u001b[0;32mimport\u001b[0m \u001b[0mvisualize\u001b[0m\u001b[0;34m\u001b[0m\u001b[0;34m\u001b[0m\u001b[0m\n\u001b[1;32m      3\u001b[0m \u001b[0;32mfrom\u001b[0m \u001b[0mtree\u001b[0m \u001b[0;32mimport\u001b[0m \u001b[0mcluster\u001b[0m\u001b[0;34m\u001b[0m\u001b[0;34m\u001b[0m\u001b[0m\n\u001b[0;32m----> 4\u001b[0;31m \u001b[0;32mfrom\u001b[0m \u001b[0mutil\u001b[0m\u001b[0;34m.\u001b[0m\u001b[0masjp2ipa\u001b[0m \u001b[0;32mimport\u001b[0m \u001b[0masjp_to_ipa\u001b[0m\u001b[0;34m\u001b[0m\u001b[0;34m\u001b[0m\u001b[0m\n\u001b[0m\u001b[1;32m      5\u001b[0m \u001b[0;34m\u001b[0m\u001b[0m\n\u001b[1;32m      6\u001b[0m \u001b[0mtree_style\u001b[0m \u001b[0;34m=\u001b[0m \u001b[0mconfig\u001b[0m\u001b[0;34m[\u001b[0m\u001b[0;34m\"ete_tree_style\"\u001b[0m\u001b[0;34m]\u001b[0m\u001b[0;34m\u001b[0m\u001b[0;34m\u001b[0m\u001b[0m\n",
      "\u001b[0;32m~/git/prediction-histling/util/asjp2ipa.py\u001b[0m in \u001b[0;36m<module>\u001b[0;34m\u001b[0m\n\u001b[1;32m     28\u001b[0m \u001b[0;34m\u001b[0m\u001b[0m\n\u001b[1;32m     29\u001b[0m \u001b[0mclts\u001b[0m \u001b[0;34m=\u001b[0m \u001b[0mCLTS\u001b[0m\u001b[0;34m(\u001b[0m\u001b[0;34mf\"{parentdir}/clts-1.4.1\"\u001b[0m\u001b[0;34m)\u001b[0m\u001b[0;34m\u001b[0m\u001b[0;34m\u001b[0m\u001b[0m\n\u001b[0;32m---> 30\u001b[0;31m \u001b[0masjp\u001b[0m \u001b[0;34m=\u001b[0m \u001b[0mclts\u001b[0m\u001b[0;34m.\u001b[0m\u001b[0mtranscriptionsystem\u001b[0m\u001b[0;34m(\u001b[0m\u001b[0;34m'asjpcode'\u001b[0m\u001b[0;34m)\u001b[0m\u001b[0;34m\u001b[0m\u001b[0;34m\u001b[0m\u001b[0m\n\u001b[0m\u001b[1;32m     31\u001b[0m \u001b[0;34m\u001b[0m\u001b[0m\n\u001b[1;32m     32\u001b[0m \u001b[0;32mdef\u001b[0m \u001b[0masjp_to_ipa\u001b[0m\u001b[0;34m(\u001b[0m\u001b[0mword\u001b[0m\u001b[0;34m)\u001b[0m\u001b[0;34m:\u001b[0m\u001b[0;34m\u001b[0m\u001b[0;34m\u001b[0m\u001b[0m\n",
      "\u001b[0;32m/usr/local/lib/python3.8/dist-packages/pyclts/api.py\u001b[0m in \u001b[0;36mtranscriptionsystem\u001b[0;34m(self, key)\u001b[0m\n\u001b[1;32m     69\u001b[0m \u001b[0;34m\u001b[0m\u001b[0m\n\u001b[1;32m     70\u001b[0m     \u001b[0;32mdef\u001b[0m \u001b[0mtranscriptionsystem\u001b[0m\u001b[0;34m(\u001b[0m\u001b[0mself\u001b[0m\u001b[0;34m,\u001b[0m \u001b[0mkey\u001b[0m\u001b[0;34m)\u001b[0m\u001b[0;34m:\u001b[0m\u001b[0;34m\u001b[0m\u001b[0;34m\u001b[0m\u001b[0m\n\u001b[0;32m---> 71\u001b[0;31m         \u001b[0;32mif\u001b[0m \u001b[0mkey\u001b[0m \u001b[0;32min\u001b[0m \u001b[0mself\u001b[0m\u001b[0;34m.\u001b[0m\u001b[0mtranscriptionsystem_dict\u001b[0m\u001b[0;34m:\u001b[0m\u001b[0;34m\u001b[0m\u001b[0;34m\u001b[0m\u001b[0m\n\u001b[0m\u001b[1;32m     72\u001b[0m             \u001b[0;32mreturn\u001b[0m \u001b[0mself\u001b[0m\u001b[0;34m.\u001b[0m\u001b[0mtranscriptionsystem_dict\u001b[0m\u001b[0;34m[\u001b[0m\u001b[0mkey\u001b[0m\u001b[0;34m]\u001b[0m\u001b[0;34m\u001b[0m\u001b[0;34m\u001b[0m\u001b[0m\n\u001b[1;32m     73\u001b[0m         return TranscriptionSystem(\n",
      "\u001b[0;32m/usr/local/lib/python3.8/dist-packages/clldutils/misc.py\u001b[0m in \u001b[0;36m__get__\u001b[0;34m(self, instance, owner)\u001b[0m\n\u001b[1;32m    193\u001b[0m         \u001b[0;32mif\u001b[0m \u001b[0minstance\u001b[0m \u001b[0;32mis\u001b[0m \u001b[0;32mNone\u001b[0m\u001b[0;34m:\u001b[0m\u001b[0;34m\u001b[0m\u001b[0;34m\u001b[0m\u001b[0m\n\u001b[1;32m    194\u001b[0m             \u001b[0;32mreturn\u001b[0m \u001b[0mself\u001b[0m\u001b[0;34m\u001b[0m\u001b[0;34m\u001b[0m\u001b[0m\n\u001b[0;32m--> 195\u001b[0;31m         \u001b[0mresult\u001b[0m \u001b[0;34m=\u001b[0m \u001b[0minstance\u001b[0m\u001b[0;34m.\u001b[0m\u001b[0m__dict__\u001b[0m\u001b[0;34m[\u001b[0m\u001b[0mself\u001b[0m\u001b[0;34m.\u001b[0m\u001b[0m__name__\u001b[0m\u001b[0;34m]\u001b[0m \u001b[0;34m=\u001b[0m \u001b[0mself\u001b[0m\u001b[0;34m.\u001b[0m\u001b[0mfget\u001b[0m\u001b[0;34m(\u001b[0m\u001b[0minstance\u001b[0m\u001b[0;34m)\u001b[0m\u001b[0;34m\u001b[0m\u001b[0;34m\u001b[0m\u001b[0m\n\u001b[0m\u001b[1;32m    196\u001b[0m         \u001b[0;32mreturn\u001b[0m \u001b[0mresult\u001b[0m\u001b[0;34m\u001b[0m\u001b[0;34m\u001b[0m\u001b[0m\n",
      "\u001b[0;32m/usr/local/lib/python3.8/dist-packages/pyclts/api.py\u001b[0m in \u001b[0;36mtranscriptionsystem_dict\u001b[0;34m(self)\u001b[0m\n\u001b[1;32m     66\u001b[0m     \u001b[0;34m@\u001b[0m\u001b[0mlazyproperty\u001b[0m\u001b[0;34m\u001b[0m\u001b[0;34m\u001b[0m\u001b[0m\n\u001b[1;32m     67\u001b[0m     \u001b[0;32mdef\u001b[0m \u001b[0mtranscriptionsystem_dict\u001b[0m\u001b[0;34m(\u001b[0m\u001b[0mself\u001b[0m\u001b[0;34m)\u001b[0m\u001b[0;34m:\u001b[0m\u001b[0;34m\u001b[0m\u001b[0;34m\u001b[0m\u001b[0m\n\u001b[0;32m---> 68\u001b[0;31m         \u001b[0;32mreturn\u001b[0m \u001b[0;34m{\u001b[0m\u001b[0mts\u001b[0m\u001b[0;34m.\u001b[0m\u001b[0mid\u001b[0m\u001b[0;34m:\u001b[0m \u001b[0mts\u001b[0m \u001b[0;32mfor\u001b[0m \u001b[0mts\u001b[0m \u001b[0;32min\u001b[0m \u001b[0mself\u001b[0m\u001b[0;34m.\u001b[0m\u001b[0miter_transcriptionsystem\u001b[0m\u001b[0;34m(\u001b[0m\u001b[0;34m)\u001b[0m\u001b[0;34m}\u001b[0m\u001b[0;34m\u001b[0m\u001b[0;34m\u001b[0m\u001b[0m\n\u001b[0m\u001b[1;32m     69\u001b[0m \u001b[0;34m\u001b[0m\u001b[0m\n\u001b[1;32m     70\u001b[0m     \u001b[0;32mdef\u001b[0m \u001b[0mtranscriptionsystem\u001b[0m\u001b[0;34m(\u001b[0m\u001b[0mself\u001b[0m\u001b[0;34m,\u001b[0m \u001b[0mkey\u001b[0m\u001b[0;34m)\u001b[0m\u001b[0;34m:\u001b[0m\u001b[0;34m\u001b[0m\u001b[0;34m\u001b[0m\u001b[0m\n",
      "\u001b[0;32m/usr/local/lib/python3.8/dist-packages/pyclts/api.py\u001b[0m in \u001b[0;36m<dictcomp>\u001b[0;34m(.0)\u001b[0m\n\u001b[1;32m     66\u001b[0m     \u001b[0;34m@\u001b[0m\u001b[0mlazyproperty\u001b[0m\u001b[0;34m\u001b[0m\u001b[0;34m\u001b[0m\u001b[0m\n\u001b[1;32m     67\u001b[0m     \u001b[0;32mdef\u001b[0m \u001b[0mtranscriptionsystem_dict\u001b[0m\u001b[0;34m(\u001b[0m\u001b[0mself\u001b[0m\u001b[0;34m)\u001b[0m\u001b[0;34m:\u001b[0m\u001b[0;34m\u001b[0m\u001b[0;34m\u001b[0m\u001b[0m\n\u001b[0;32m---> 68\u001b[0;31m         \u001b[0;32mreturn\u001b[0m \u001b[0;34m{\u001b[0m\u001b[0mts\u001b[0m\u001b[0;34m.\u001b[0m\u001b[0mid\u001b[0m\u001b[0;34m:\u001b[0m \u001b[0mts\u001b[0m \u001b[0;32mfor\u001b[0m \u001b[0mts\u001b[0m \u001b[0;32min\u001b[0m \u001b[0mself\u001b[0m\u001b[0;34m.\u001b[0m\u001b[0miter_transcriptionsystem\u001b[0m\u001b[0;34m(\u001b[0m\u001b[0;34m)\u001b[0m\u001b[0;34m}\u001b[0m\u001b[0;34m\u001b[0m\u001b[0;34m\u001b[0m\u001b[0m\n\u001b[0m\u001b[1;32m     69\u001b[0m \u001b[0;34m\u001b[0m\u001b[0m\n\u001b[1;32m     70\u001b[0m     \u001b[0;32mdef\u001b[0m \u001b[0mtranscriptionsystem\u001b[0m\u001b[0;34m(\u001b[0m\u001b[0mself\u001b[0m\u001b[0;34m,\u001b[0m \u001b[0mkey\u001b[0m\u001b[0;34m)\u001b[0m\u001b[0;34m:\u001b[0m\u001b[0;34m\u001b[0m\u001b[0;34m\u001b[0m\u001b[0m\n",
      "\u001b[0;32m/usr/local/lib/python3.8/dist-packages/pyclts/api.py\u001b[0m in \u001b[0;36miter_transcriptionsystem\u001b[0;34m(self, include_private, exclude)\u001b[0m\n\u001b[1;32m     58\u001b[0m                 \u001b[0;32mif\u001b[0m \u001b[0;34m(\u001b[0m\u001b[0;32mnot\u001b[0m \u001b[0mts\u001b[0m\u001b[0;34m.\u001b[0m\u001b[0mname\u001b[0m\u001b[0;34m.\u001b[0m\u001b[0mstartswith\u001b[0m\u001b[0;34m(\u001b[0m\u001b[0;34m'_'\u001b[0m\u001b[0;34m)\u001b[0m\u001b[0;34m)\u001b[0m \u001b[0;32mor\u001b[0m \u001b[0minclude_private\u001b[0m\u001b[0;34m:\u001b[0m\u001b[0;34m\u001b[0m\u001b[0;34m\u001b[0m\u001b[0m\n\u001b[1;32m     59\u001b[0m                     \u001b[0;32mif\u001b[0m \u001b[0mts\u001b[0m\u001b[0;34m.\u001b[0m\u001b[0mname\u001b[0m \u001b[0;32mnot\u001b[0m \u001b[0;32min\u001b[0m \u001b[0mexclude\u001b[0m\u001b[0;34m:\u001b[0m\u001b[0;34m\u001b[0m\u001b[0;34m\u001b[0m\u001b[0m\n\u001b[0;32m---> 60\u001b[0;31m                         yield TranscriptionSystem(\n\u001b[0m\u001b[1;32m     61\u001b[0m                             \u001b[0mts\u001b[0m\u001b[0;34m,\u001b[0m\u001b[0;34m\u001b[0m\u001b[0;34m\u001b[0m\u001b[0m\n\u001b[1;32m     62\u001b[0m                             \u001b[0mself\u001b[0m\u001b[0;34m.\u001b[0m\u001b[0mtranscriptionsystems_dir\u001b[0m \u001b[0;34m/\u001b[0m \u001b[0;34m'transcription-system-metadata.json'\u001b[0m\u001b[0;34m,\u001b[0m\u001b[0;34m\u001b[0m\u001b[0;34m\u001b[0m\u001b[0m\n",
      "\u001b[0;32m/usr/local/lib/python3.8/dist-packages/pyclts/transcriptionsystem.py\u001b[0m in \u001b[0;36m__init__\u001b[0;34m(self, path, metadata, features)\u001b[0m\n\u001b[1;32m     68\u001b[0m                     raise ValueError('duplicate grapheme in {0}:{1}: {2}'.format(\n\u001b[1;32m     69\u001b[0m                         type_ + 's.tsv', lnum + 2, item['grapheme']))\n\u001b[0;32m---> 70\u001b[0;31m                 \u001b[0msound\u001b[0m \u001b[0;34m=\u001b[0m \u001b[0mcls\u001b[0m\u001b[0;34m(\u001b[0m\u001b[0mts\u001b[0m\u001b[0;34m=\u001b[0m\u001b[0mself\u001b[0m\u001b[0;34m,\u001b[0m \u001b[0;34m**\u001b[0m\u001b[0mitem\u001b[0m\u001b[0;34m)\u001b[0m\u001b[0;34m\u001b[0m\u001b[0;34m\u001b[0m\u001b[0m\n\u001b[0m\u001b[1;32m     71\u001b[0m                 \u001b[0;31m# make sure this does not take too long\u001b[0m\u001b[0;34m\u001b[0m\u001b[0;34m\u001b[0m\u001b[0;34m\u001b[0m\u001b[0m\n\u001b[1;32m     72\u001b[0m                 \u001b[0;32mfor\u001b[0m \u001b[0mkey\u001b[0m\u001b[0;34m,\u001b[0m \u001b[0mvalue\u001b[0m \u001b[0;32min\u001b[0m \u001b[0mitem\u001b[0m\u001b[0;34m.\u001b[0m\u001b[0mitems\u001b[0m\u001b[0;34m(\u001b[0m\u001b[0;34m)\u001b[0m\u001b[0;34m:\u001b[0m\u001b[0;34m\u001b[0m\u001b[0;34m\u001b[0m\u001b[0m\n",
      "\u001b[0;31mTypeError\u001b[0m: __init__() got an unexpected keyword argument 'laterality'"
     ]
    }
   ],
   "source": [
    "from dataset import data\n",
    "from visualize import visualize\n",
    "from tree import cluster\n",
    "from util.asjp2ipa import asjp_to_ipa\n",
    "\n",
    "tree_style = config[\"ete_tree_style\"]\n",
    "\n",
    "print(\"Phonetic matrix from Brown (2008):\")\n",
    "# Perform PCA on phonetic feature matrix from Brown (2008)\n",
    "phon_matrix_red, phon_phonemes = visualize.dim_reduction(feature_matrix_phon)\n",
    "# If enabled, convert ASJP phonemes to IPA for plot\n",
    "if config[\"view_embedding_ipa\"]:\n",
    "    phon_phonemes = [asjp_to_ipa(p) for p in phon_phonemes]\n",
    "# Visualize phonetic feature PCA using plot\n",
    "visualize.visualize_encoding(phon_matrix_red, phon_phonemes, \"phonetic-pca\", config)\n",
    "# Hierarchically cluster distances between phonemes in phonetic feature matrix\n",
    "tree = cluster.cluster_phonemes_encoding(feature_matrix_phon, phon_phonemes, \"phonetic\", config)\n",
    "\n",
    "display(tree.render(\"%%inline\", tree_style=tree_style))\n",
    "\n",
    "for lang_pair in lang_pairs:\n",
    "    lang_a = lang_pair[0]\n",
    "    print(f\"Embedding for {lang_a}:\")\n",
    "    # Create embedding for every first language in language pair\n",
    "    emb_matrix = data.create_embedding(lang_a, [output_path_cognates_train, output_path_cognates_valtest], config)\n",
    "    # Perform PCA on embedding matrix\n",
    "    emb_matrix_red, emb_phonemes = visualize.dim_reduction(emb_matrix)\n",
    "    # If enabled, convert ASJP phonemes to IPA for plot\n",
    "    if config[\"view_embedding_ipa\"]:\n",
    "        emb_phonemes = [asjp_to_ipa(p) for p in emb_phonemes]\n",
    "    # Visualize embedding PCA using plot\n",
    "    visualize.visualize_encoding(emb_matrix_red, emb_phonemes, f\"embedding-{lang_pair[0]}-pca\", config)\n",
    "    \n",
    "    # Hierarchically cluster distances between phonemes in embedding matrix\n",
    "    tree = cluster.cluster_phonemes_encoding(emb_matrix, emb_phonemes, f\"embedding-{lang_pair[0]}\", config)\n",
    "    display(tree.render(\"%%inline\", tree_style=tree_style))\n",
    "    "
   ]
  },
  {
   "cell_type": "markdown",
   "metadata": {},
   "source": [
    "#### Close-up: constrast occurrences of phonemes in data\n",
    "Interesting patterns in the phoneme encoding visualizations, can be looked up in the data. In the Dutch embedding encoding, we saw that *t* and *d*, closely related phonemes, are quite remote in the embedding space. How do the words with *t* and *d*, on which the embedding encoding is based, look in Dutch?"
   ]
  },
  {
   "cell_type": "code",
   "execution_count": 4,
   "metadata": {},
   "outputs": [
    {
     "name": "stdout",
     "output_type": "stream",
     "text": [
      "d\n",
      "Total number of occurrences: 206\n",
      "Relative frequencies of locations:\n",
      "0     0.300971\n",
      "3     0.257282\n",
      "2     0.169903\n",
      "4     0.087379\n",
      "5     0.058252\n",
      "6     0.053398\n",
      "7     0.038835\n",
      "1     0.014563\n",
      "8     0.014563\n",
      "10    0.004854\n",
      "Name: ASJP, dtype: float64\n",
      "Words with d where d has most frequent location in word (0):\n",
      "           ID DOCULECT GLOTTOCODE      CONCEPT WORD_FORM      RAWIPA  \\\n",
      "2089    59962      nld   dutc1256      Arzt::N    dokter      dɔktər   \n",
      "7242    59849      nld   dutc1256      Dach::N       dak         dɑk   \n",
      "7360    59923      nld   dutc1256     Decke::N     deken      ˈdeːkə   \n",
      "7485    59871      nld   dutc1256    Deckel::N    deksel      dɛksəl   \n",
      "7603    60020      nld   dutc1256  Dezember::N  december  deˑˈsɛmbər   \n",
      "...       ...      ...        ...          ...       ...         ...   \n",
      "108633  60339      nld   dutc1256   trinken::V   drinken      drɪnkə   \n",
      "108746  60058      nld   dutc1256   trocken::A     droog       droːx   \n",
      "108862  60299      nld   dutc1256  trocknen::V    drogen      droːɣə   \n",
      "108976  60430      nld   dutc1256       tun::V      doen        duːn   \n",
      "109233  60590      nld   dutc1256     töten::V     doden       doːdə   \n",
      "\n",
      "                    IPA      ASJP      LIST     DOLGO NEXT_STEP  \\\n",
      "2089        d ɔ k t ə r    dokt3r    TUKTER    TVKTVR  validate   \n",
      "7242              d ɑ k       dak       TAK       TVK  validate   \n",
      "7360          d e e k ə      dek3      TEKE      TVKV  validate   \n",
      "7485        d ɛ k s ə l    dEks3l    TEKSEL    TVKSVR  validate   \n",
      "7603    d e s ɛ m b ə r  desEmb3r  TESEMPER  TVSVMPVR  validate   \n",
      "...                 ...       ...       ...       ...       ...   \n",
      "108633      d r ɪ n k ə    drink3    TRINKE    TRVNKV  validate   \n",
      "108746        d r o o x      drox      TRUG      TRVK  validate   \n",
      "108862      d r o o ɣ ə     drox3     TRUGE     TRVKV  validate   \n",
      "108976          d u u n       dun       TYN       TVN  validate   \n",
      "109233        d o o d ə      dod3      TUTE      TVTV  validate   \n",
      "\n",
      "                 TOKENS            TOKEN           SONARS PROSTRINGS  \\\n",
      "2089        d o k t 3 r      d o k t 3 r      1 7 1 1 7 5     AXMBYN   \n",
      "7242              d a k            d a k            1 7 1        AXN   \n",
      "7360            d e k 3          d e k 3          1 7 1 7       AXBZ   \n",
      "7485        d E k s 3 l      d E k s 3 l      1 7 1 3 7 5     AXBCYN   \n",
      "7603    d e s E m b 3 r  d e s E m b 3 r  1 7 3 7 4 1 7 5   AXBYMBYN   \n",
      "...                 ...              ...              ...        ...   \n",
      "108633      d r i n k 3      d r i n k 3      1 5 7 4 1 7     ACXMBZ   \n",
      "108746          d r o x          d r o x          1 5 7 3       ACXN   \n",
      "108862        d r o x 3        d r o x 3        1 5 7 3 7      ACXBZ   \n",
      "108976            d u n            d u n            1 7 4        AXN   \n",
      "109233          d o d 3          d o d 3          1 7 1 7       AXBZ   \n",
      "\n",
      "                                                  NUMBERS  \\\n",
      "2089      nld.T.C nld.U.V nld.K.c nld.T.C nld.E.V nld.R.c   \n",
      "7242                              nld.T.C nld.A.V nld.K.c   \n",
      "7360                      nld.T.C nld.E.V nld.K.C nld.E.V   \n",
      "7485      nld.T.C nld.E.V nld.K.C nld.S.C nld.E.V nld.L.c   \n",
      "7603    nld.T.C nld.E.V nld.S.C nld.E.V nld.M.c nld.P....   \n",
      "...                                                   ...   \n",
      "108633    nld.T.C nld.R.C nld.I.V nld.N.c nld.K.C nld.E.V   \n",
      "108746                    nld.T.C nld.R.C nld.U.V nld.G.c   \n",
      "108862            nld.T.C nld.R.C nld.U.V nld.G.C nld.E.V   \n",
      "108976                            nld.T.C nld.Y.V nld.N.c   \n",
      "109233                    nld.T.C nld.U.V nld.T.C nld.E.V   \n",
      "\n",
      "                                  WEIGHTS  DUPLICATES  COGNATES_LEXSTAT  \n",
      "2089             2.0 1.5 1.1 1.75 1.3 0.8           0              1806  \n",
      "7242                          2.0 1.5 0.8           0              6239  \n",
      "7360                     2.0 1.5 1.75 0.8           0              6371  \n",
      "7485             2.0 1.5 1.75 1.5 1.3 0.8           0              6465  \n",
      "7603    2.0 1.5 1.75 1.3 1.1 1.75 1.3 0.8           0              6553  \n",
      "...                                   ...         ...               ...  \n",
      "108633           2.0 1.5 1.5 1.1 1.75 0.8           0             97397  \n",
      "108746                    2.0 1.5 1.5 0.8           0             97520  \n",
      "108862               2.0 1.5 1.5 1.75 0.8           0             97611  \n",
      "108976                        2.0 1.5 0.8           0             97692  \n",
      "109233                   2.0 1.5 1.75 0.8           0             97937  \n",
      "\n",
      "[62 rows x 19 columns]\n",
      "\n",
      "t\n",
      "Total number of occurrences: 402\n",
      "Relative frequencies of locations:\n",
      "3     0.335821\n",
      "2     0.218905\n",
      "1     0.124378\n",
      "0     0.121891\n",
      "4     0.099502\n",
      "5     0.062189\n",
      "6     0.024876\n",
      "9     0.007463\n",
      "8     0.002488\n",
      "11    0.002488\n",
      "Name: ASJP, dtype: float64\n",
      "Words with t where t has most frequent location in word (3):\n",
      "           ID DOCULECT GLOTTOCODE        CONCEPT    WORD_FORM          RAWIPA  \\\n",
      "310     59778      nld   dutc1256     Abstand::N      afstand         ɑfstɑnt   \n",
      "647     59992      nld   dutc1256       Alter::N     leeftijd       leːftɛi̯t   \n",
      "1006    59587      nld   dutc1256      Anhöhe::N       hoogte          ɦoːxtə   \n",
      "1838    59768      nld   dutc1256         Art::N        soort           soːrt   \n",
      "2089    59962      nld   dutc1256        Arzt::N       dokter          dɔktər   \n",
      "...       ...      ...        ...            ...          ...             ...   \n",
      "113697  60170      nld   dutc1256    vorher::ADV  van tevoren  v̥ɑn təˈv̥oːrə   \n",
      "114301  60395      nld   dutc1256      warten::V      wachten           ʋɑxtə   \n",
      "116250  60085      nld   dutc1256    wertvoll::A     kostbaar        kɔstbaːr   \n",
      "119275  60171      nld   dutc1256    zuerst::ADV        eerst           eːrst   \n",
      "121555  60643      nld   dutc1256  übersetzen::V     vertalen        vɛrtaːlə   \n",
      "\n",
      "                          IPA       ASJP        LIST       DOLGO NEXT_STEP  \\\n",
      "310             ɑ f s t ɑ n t    afstant     ABSTANT     VPSTVNT  validate   \n",
      "647           l e e f t ɛ i t    leftEit     LEBTEIT      RVPTVT  validate   \n",
      "1006              ɦ o o x t ə      hoxt3       HUGTE       HVKTV  validate   \n",
      "1838                s o o r t       sort        SURT        SVRT  validate   \n",
      "2089              d ɔ k t ə r     dokt3r      TUKTER      TVKTVR  validate   \n",
      "...                       ...        ...         ...         ...       ...   \n",
      "113697  v ɑ n _ t ə v o o r ə  vant3vor3  BAN_TEBURE  WVN_TVWVRV  validate   \n",
      "114301              ʋ ɑ x t ə      waxt3       WAGTE       WVKTV  validate   \n",
      "116250        k ɔ s t b a a r    kostbar     KUSTPAR     KVSTPVR  validate   \n",
      "119275              e e r s t       erst        ERST        VRST  validate   \n",
      "121555        v ɛ r t a a l ə    vErtal3     BERTALE     WVRTVRV  validate   \n",
      "\n",
      "                   TOKENS              TOKEN             SONARS PROSTRINGS  \\\n",
      "310         a f s t a n t      a f s t a n t      7 3 3 1 7 4 1    XLMBYLN   \n",
      "647         l e f t E i t      l e f t E i t      5 7 3 1 7 7 1    AXMBYYN   \n",
      "1006            h o x t 3          h o x t 3          3 7 3 1 7      AXMBZ   \n",
      "1838              s o r t            s o r t            3 7 5 1       AXLN   \n",
      "2089          d o k t 3 r        d o k t 3 r        1 7 1 1 7 5     AXMBYN   \n",
      "...                   ...                ...                ...        ...   \n",
      "113697  v a n t 3 v o r 3  v a n t 3 v o r 3  3 7 4 1 7 3 7 5 7  AXMBYBYBZ   \n",
      "114301          w a x t 3          w a x t 3          6 7 3 1 7      AXMBZ   \n",
      "116250      k o s t b a r      k o s t b a r      1 7 3 1 1 7 5    AXLMBYN   \n",
      "119275            e r s t            e r s t            7 5 3 1       XLLN   \n",
      "121555      v E r t a l 3      v E r t a l 3      3 7 5 1 7 5 7    AXMBYBZ   \n",
      "\n",
      "                                                  NUMBERS  \\\n",
      "310     nld.A.V nld.B.c nld.S.c nld.T.C nld.A.V nld.N....   \n",
      "647     nld.L.C nld.E.V nld.B.c nld.T.C nld.E.V nld.I....   \n",
      "1006              nld.H.C nld.U.V nld.G.c nld.T.C nld.E.V   \n",
      "1838                      nld.S.C nld.U.V nld.R.c nld.T.c   \n",
      "2089      nld.T.C nld.U.V nld.K.c nld.T.C nld.E.V nld.R.c   \n",
      "...                                                   ...   \n",
      "113697  nld.B.C nld.A.V nld.N.c nld._.C nld.T.V nld.E....   \n",
      "114301            nld.W.C nld.A.V nld.G.c nld.T.C nld.E.V   \n",
      "116250  nld.K.C nld.U.V nld.S.c nld.T.c nld.P.C nld.A....   \n",
      "119275                    nld.E.V nld.R.c nld.S.c nld.T.c   \n",
      "121555  nld.B.C nld.E.V nld.R.c nld.T.C nld.A.V nld.L....   \n",
      "\n",
      "                                       WEIGHTS  DUPLICATES  COGNATES_LEXSTAT  \n",
      "310               1.5 1.1 1.1 1.75 1.3 1.1 0.8           0               237  \n",
      "647               2.0 1.5 1.1 1.75 1.3 1.3 0.8           0               536  \n",
      "1006                      2.0 1.5 1.1 1.75 0.8           0               791  \n",
      "1838                           2.0 1.5 1.1 0.8           0              1611  \n",
      "2089                  2.0 1.5 1.1 1.75 1.3 0.8           0              1806  \n",
      "...                                        ...         ...               ...  \n",
      "113697  2.0 1.5 1.1 1.75 1.3 1.75 1.3 1.75 0.8           0            102083  \n",
      "114301                    2.0 1.5 1.1 1.75 0.8           0            102565  \n",
      "116250            2.0 1.5 1.1 1.1 1.75 1.3 0.8           0            104408  \n",
      "119275                         1.5 1.1 1.1 0.8           0            107070  \n",
      "121555           2.0 1.5 1.1 1.75 1.3 1.75 0.8           0            109152  \n",
      "\n"
     ]
    },
    {
     "name": "stdout",
     "output_type": "stream",
     "text": [
      "[135 rows x 19 columns]\n",
      "\n"
     ]
    }
   ],
   "source": [
    "\n",
    "lang = \"nld\"\n",
    "# Read in TSV file with data\n",
    "df = pd.read_csv(output_path_cognates_train, sep=\"\\t\", engine=\"python\", skipfooter=3, index_col=False)\n",
    "df_lang = df[df[\"DOCULECT\"] == lang]\n",
    "\n",
    "for phoneme in [\"d\", \"t\"]:\n",
    "    print(phoneme)\n",
    "    words_with_phoneme = df_lang[df_lang[\"ASJP\"].str.contains(phoneme)]\n",
    "    total = len(words_with_phoneme)\n",
    "    print(f\"Total number of occurrences: {total}\")\n",
    "    \n",
    "    # Compute locations of phonemes in word\n",
    "    locations = df_lang[\"ASJP\"].str.find(phoneme)\n",
    "    locations = locations[locations != -1]\n",
    "    # Compute relative frequencies\n",
    "    locations_relfreq = locations.value_counts(normalize=True)\n",
    "    print(\"Relative frequencies of locations:\")\n",
    "    print(locations_relfreq)\n",
    "    # Look up words with most frequent location\n",
    "    most_freq_location = int(locations.mode())\n",
    "    words_in_most_freq_loc = words_with_phoneme[words_with_phoneme[\"ASJP\"].str.find(phoneme) == most_freq_location]\n",
    "    print(f\"Words with {phoneme} where {phoneme} has most frequent location in word ({most_freq_location}):\")\n",
    "    print(words_in_most_freq_loc)\n",
    "    print(\"\")\n",
    "    \n"
   ]
  },
  {
   "cell_type": "markdown",
   "metadata": {},
   "source": [
    "\n",
    "\n",
    "\n",
    "### Show number of cognates in training data\n",
    "Show the number of cognate word pairs per language pair in the training data, and calculate cliques of languages with a minimum of 100 shared cognates. These cliques can later be used, to have a group of languages with a large shared number of cognates, to perform prediction on."
   ]
  },
  {
   "cell_type": "code",
   "execution_count": 5,
   "metadata": {
    "ExecuteTime": {
     "end_time": "2019-08-08T14:42:48.156995Z",
     "start_time": "2019-08-08T12:36:42.898Z"
    }
   },
   "outputs": [
    {
     "name": "stdout",
     "output_type": "stream",
     "text": [
      "Calculate number of cognates per language...\n"
     ]
    },
    {
     "name": "stderr",
     "output_type": "stream",
     "text": [
      "/usr/local/lib/python3.8/dist-packages/IPython/core/interactiveshell.py:3263: DtypeWarning: Columns (0) have mixed types.Specify dtype option on import or set low_memory=False.\n",
      "  if (await self.run_code(code, result,  async_=asy)):\n"
     ]
    },
    {
     "name": "stdout",
     "output_type": "stream",
     "text": [
      "Calculate cliques...\n",
      "Cognates per language: \n",
      "            Cognates\n",
      "(nld, deu)       726\n",
      "(deu, nld)       726\n",
      "(nld, eng)       353\n",
      "(eng, nld)       353\n",
      "(deu, eng)       302\n",
      "(eng, deu)       302\n",
      "Cliques: \n",
      "['nld', 'deu', 'eng']\n"
     ]
    }
   ],
   "source": [
    "cog_per_lang, cliques = data.compute_n_cognates(lang_pairs, output_path_cognates_train, langs=languages, cognates_threshold=100, config=config)\n",
    "print(\"Cognates per language: \")\n",
    "print(cog_per_lang)\n",
    "print(\"Cliques: \")\n",
    "for c in cliques:\n",
    "    print(c)"
   ]
  },
  {
   "cell_type": "markdown",
   "metadata": {},
   "source": [
    "## Word prediction\n",
    "Choose a model to run to perform word prediction: structured perceptron or RNN encoder-decoder. Structured perceptron has the shortest run time. The results of the model run latest for a language pair are saved, and can be used for subsequent applications in the notebook (e.g. phylogenetic tree reconstruction)."
   ]
  },
  {
   "cell_type": "markdown",
   "metadata": {},
   "source": [
    "### Word prediction using structured perceptron"
   ]
  },
  {
   "cell_type": "code",
   "execution_count": null,
   "metadata": {
    "ExecuteTime": {
     "end_time": "2019-08-08T14:42:48.158867Z",
     "start_time": "2019-08-08T12:37:12.451Z"
    }
   },
   "outputs": [],
   "source": [
    "from prediction import prediction\n",
    "\n",
    "for lang_pair in lang_pairs:\n",
    "    lang_a, lang_b = lang_pair\n",
    "    print(\"Performing structured perceptron word prediction for pair (\" + lang_a + \", \" + lang_b + \")\")\n",
    "    prediction.word_prediction_seq(lang_a, lang_b, train[lang_pair], val[lang_pair], test[lang_pair], conversion_key[lang_pair], results_path[lang_pair], distances_path + \".txt\", config)\n",
    "        "
   ]
  },
  {
   "cell_type": "markdown",
   "metadata": {},
   "source": [
    "### Word prediction using encoder-decoder\n",
    "To enable GPU support, refer to the [Theano documentation](http://deeplearning.net/software/theano/tutorial/using_gpu.html), and restart the first cell."
   ]
  },
  {
   "cell_type": "code",
   "execution_count": null,
   "metadata": {
    "ExecuteTime": {
     "end_time": "2019-08-08T14:42:48.157919Z",
     "start_time": "2019-08-08T12:37:07.979Z"
    }
   },
   "outputs": [],
   "source": [
    "from prediction import prediction\n",
    "\n",
    "for lang_pair in lang_pairs:\n",
    "    lang_a,lang_b = lang_pair\n",
    "    print(\"Performing RNN word prediction for pair (\" + lang_a + \", \" + lang_b + \")\")\n",
    "    prediction.word_prediction_rnn(lang_a, lang_b, (max_len[lang_a], max_len[lang_b]), train[lang_pair], val[lang_pair], test[lang_pair], conversion_key[lang_pair], (voc_size[i_enc][lang_a],voc_size[o_enc][lang_b]), results_path[lang_pair], distances_path + \".txt\", context_vectors_path[lang_pair] + \".p\", config[\"output_encoding\"], config)\n"
   ]
  },
  {
   "cell_type": "markdown",
   "metadata": {},
   "source": [
    "### Baseline for prediction"
   ]
  },
  {
   "cell_type": "code",
   "execution_count": null,
   "metadata": {
    "ExecuteTime": {
     "end_time": "2019-08-08T14:42:48.159715Z",
     "start_time": "2019-08-08T12:37:14.818Z"
    }
   },
   "outputs": [],
   "source": [
    "from models import baseline\n",
    "from dataset import Subset\n",
    "\n",
    "import numpy as np\n",
    "\n",
    "for lang_pair in lang_pairs:\n",
    "    lang_a,lang_b = lang_pair\n",
    "    conv = conversion_key[lang_pair]\n",
    "    sounds = (list(conv[0].values()), list(conv[1].values()))\n",
    "    training_frame = train[lang_pair].get_dataframe(conv, i_enc, o_enc)\n",
    "    testing_frame = test[lang_pair].get_dataframe(conv, i_enc, o_enc)\n",
    "    baseline.compute_baseline(lang_a, lang_b, sounds, training_frame, testing_frame, baselines_path + \".txt\")"
   ]
  },
  {
   "cell_type": "markdown",
   "metadata": {},
   "source": [
    "### Applications"
   ]
  },
  {
   "cell_type": "markdown",
   "metadata": {},
   "source": [
    "#### Identify sound correspondences\n",
    "##### Based on output substitutions\n",
    "This shows the substitutions table in the notebook, and outputs it as LaTeX table to `RESULTS_DIR/subs-LANG1-LANG2.tex`."
   ]
  },
  {
   "cell_type": "code",
   "execution_count": null,
   "metadata": {
    "ExecuteTime": {
     "end_time": "2019-08-08T14:42:48.161412Z",
     "start_time": "2019-08-08T12:37:20.235Z"
    }
   },
   "outputs": [],
   "source": [
    "from visualize import visualize\n",
    "\n",
    "\n",
    "for lang_pair in lang_pairs:\n",
    "    lang_a, lang_b = lang_pair\n",
    "    visualize.show_output_substitutions(results_path[lang_pair], subs_st_path[lang_pair], subs_sp_path[lang_pair], lang_a, lang_b, config)"
   ]
  },
  {
   "cell_type": "markdown",
   "metadata": {},
   "source": [
    "##### Based on context vector weights (only when weight exported activated)\n",
    "This works when word prediction with encoder-decoder has been run, and weight export has been activated at the top of this notebook. Executing this command shows the distances between input, output and context vectors. Furthermore, it generates PCA plots of the input, output and context vectors and generates LaTeX files."
   ]
  },
  {
   "cell_type": "code",
   "execution_count": null,
   "metadata": {},
   "outputs": [],
   "source": [
    "%matplotlib inline\n",
    "import matplotlib.pyplot as plt\n",
    "from visualize import visualize\n",
    "\n",
    "for lang_pair in lang_pairs:\n",
    "    visualize.visualize_weights(context_vectors_path[lang_pair], lang_pair, i_enc, o_enc, config[\"results_dir\"], sample=None)\n"
   ]
  },
  {
   "cell_type": "markdown",
   "metadata": {},
   "source": [
    "#### Phylogenetic tree reconstruction"
   ]
  },
  {
   "cell_type": "markdown",
   "metadata": {},
   "source": [
    "##### Clustering based on word prediction"
   ]
  },
  {
   "cell_type": "code",
   "execution_count": null,
   "metadata": {
    "ExecuteTime": {
     "end_time": "2019-08-08T14:42:48.162205Z",
     "start_time": "2019-08-08T12:37:22.524Z"
    }
   },
   "outputs": [],
   "source": [
    "from tree import cluster\n",
    "\n",
    "# Cluster based on word prediction distances\n",
    "trees = cluster.cluster_languages(lang_pairs, distances_path, output_path=distances_path, config=config)\n",
    "\n",
    "# Show trees in notebook\n",
    "for tree in trees:\n",
    "    print(tree)\n",
    "    display(tree.render(\"%%inline\",tree_style=config[\"ete_tree_style\"]))"
   ]
  },
  {
   "cell_type": "markdown",
   "metadata": {},
   "source": [
    "##### Clustering based on baseline"
   ]
  },
  {
   "cell_type": "code",
   "execution_count": null,
   "metadata": {
    "ExecuteTime": {
     "end_time": "2019-08-08T14:42:48.162967Z",
     "start_time": "2019-08-08T12:37:24.347Z"
    }
   },
   "outputs": [],
   "source": [
    "from tree import cluster\n",
    "\n",
    "# Source prediction baseline\n",
    "print(\"Source word baseline tree\")\n",
    "strees = cluster.cluster_languages(lang_pairs, baselines_path, output_path=baselines_path + \"_source\", config=config, distance_col=2)\n",
    "for stree in strees:\n",
    "    print(stree)\n",
    "    display(stree.render(\"%%inline\",tree_style=config[\"ete_tree_style\"]))\n",
    "\n",
    "# PMI-based baseline\n",
    "print(\"PMI-based baseline tree\")\n",
    "ptrees = cluster.cluster_languages(lang_pairs, baselines_path, output_path=baselines_path + \"_pmi\", config=config, distance_col=3)\n",
    "for ptree in ptrees:\n",
    "    print(ptree)\n",
    "    display(ptree.render(\"%%inline\",tree_style=config[\"ete_tree_style\"]))"
   ]
  },
  {
   "cell_type": "markdown",
   "metadata": {},
   "source": [
    "##### Draw tree from existing newick string (no distance calculcation)\n",
    "This code can be used to draw trees as image, for which the newick string representation of the tree has already been generated by an earlier run of the clustering algorithm. A collection of previously generated tree strings can be found in the folder `data/trees`."
   ]
  },
  {
   "cell_type": "code",
   "execution_count": 6,
   "metadata": {},
   "outputs": [
    {
     "name": "stdout",
     "output_type": "stream",
     "text": [
      "output/tree_slav_glottolog.pdf\n"
     ]
    },
    {
     "data": {
      "image/png": "[encoded data removed]",
      "text/plain": [
       "<IPython.core.display.Image object>"
      ]
     },
     "metadata": {},
     "output_type": "display_data"
    },
    {
     "name": "stdout",
     "output_type": "stream",
     "text": [
      "output/tree_slav_structperc_emb_nj.pdf\n"
     ]
    },
    {
     "data": {
      "image/png": "[encoded data removed]",
      "text/plain": [
       "<IPython.core.display.Image object>"
      ]
     },
     "metadata": {},
     "output_type": "display_data"
    },
    {
     "name": "stdout",
     "output_type": "stream",
     "text": [
      "output/tree_slav_structperc_emb_upgma.pdf\n"
     ]
    },
    {
     "data": {
      "image/png": "[encoded data removed]",
      "text/plain": [
       "<IPython.core.display.Image object>"
      ]
     },
     "metadata": {},
     "output_type": "display_data"
    }
   ],
   "source": [
    "from ete3 import Tree, TreeStyle, NodeStyle, TextFace\n",
    "from scipy.spatial.distance import pdist, squareform\n",
    "\n",
    "# A number of sample newick strings, you can add your own here.\n",
    "slav_glottolog = \"((bel,rus,ukr),((hrv,slv),bul),((ces,slk),pol));\"\n",
    "slav_structperc_emb_nj = \"(((bel:0.07,ukr:0.11):0.02,rus:0.12):0.03,(((slv:0.11,hrv:0.1):0.02,bul:0.17):0.06,(pol:0.16,(ces:0.1,slk:0.06):0.06):0.04):0.03);\"\n",
    "slav_structperc_emb_upgma = \"((bul:0.15,(slv:0.1,hrv:0.1):0.05):0.04,((rus:0.11,(bel:0.09,ukr:0.09):0.02):0.07,(pol:0.15,(ces:0.08,slk:0.08):0.07):0.03):0.01);\"\n",
    "\n",
    "# If turned on, replace language code by language names from lang_dict\n",
    "USE_LANGUAGE_NAMES = True\n",
    "lang_dict = {\"rus\": \"Russian\", \"bel\":\"Belarusian\", \"ukr\":\"Ukrainian\", \"hrv\":\"Croatian\", \"slv\":\"Slovenian\", \"bul\":\"Bulgarian\", \"ces\":\"Czech\", \"slk\":\"Slovak\", \"pol\":\"Polish\"}\n",
    "\n",
    "\n",
    "for name,newick_string in [(\"slav_glottolog\", slav_glottolog),\n",
    "                           (\"slav_structperc_emb_nj\",slav_structperc_emb_nj),\n",
    "                           (\"slav_structperc_emb_upgma\",slav_structperc_emb_upgma)]:\n",
    "    if USE_LANGUAGE_NAMES:\n",
    "        for code in lang_dict:\n",
    "            newick_string = newick_string.replace(code, lang_dict[code])\n",
    "    if name==\"slav_glottolog\": # glottolog tree is without length\n",
    "        ts = TreeStyle()\n",
    "        ts.show_scale = False\n",
    "        ts.show_leaf_name = False\n",
    "        ts.force_topology = False\n",
    "        ts.show_border = False\n",
    "        ts.margin_top = ts.margin_bottom = ts.margin_right = ts.margin_left = 5\n",
    "        ts.scale = 50\n",
    "        ts.branch_vertical_margin= 10\n",
    "    else:\n",
    "        ts = TreeStyle()\n",
    "        ts.show_scale = False\n",
    "        ts.show_leaf_name = False\n",
    "        ts.force_topology = False\n",
    "        ts.show_border = False\n",
    "        ts.margin_top = ts.margin_bottom = ts.margin_right = ts.margin_left = 5\n",
    "        ts.scale = 500\n",
    "        ts.branch_vertical_margin= 10\n",
    "    # Load newick string into ete3 Tree object\n",
    "    tree = Tree(newick_string)\n",
    "    for node in tree.traverse():\n",
    "        node.set_style(config[\"ete_node_style\"])\n",
    "        if node.is_leaf():\n",
    "            # Add bit of extra space between leaf branch and leaf label\n",
    "            name_face = TextFace(f\" {node.name}\", fgcolor=\"black\", ftype=\"Charis SIL Compact\", fsize=11)\n",
    "            node.add_face(name_face, column=0, position='branch-right')\n",
    "    print(f\"output/tree_{name}.pdf\")\n",
    "    tree.render(f\"output/tree_{name}.pdf\", tree_style=ts)\n",
    "    display(tree.render(f\"%%inline\", tree_style=ts))"
   ]
  },
  {
   "cell_type": "markdown",
   "metadata": {},
   "source": [
    "#### Cognate detection\n",
    "To perform this step, the word prediction step has to be performed, with `cognate_detection=True` in the first initialization cell."
   ]
  },
  {
   "cell_type": "code",
   "execution_count": 7,
   "metadata": {
    "ExecuteTime": {
     "end_time": "2019-08-08T14:42:48.163795Z",
     "start_time": "2019-08-08T12:37:26.572Z"
    }
   },
   "outputs": [
    {
     "name": "stdout",
     "output_type": "stream",
     "text": [
      "Performing WP cognate detection using clustering...\n"
     ]
    },
    {
     "ename": "FileNotFoundError",
     "evalue": "[Errno 2] No such file or directory: 'output/deu-nld.bat_siz10.bid_enc.v1.4..v1.4..cog_pri1.0.dro0.1.asjp_phone_featu_new.t.fil_tra1.0.gru.gra_cli100.xavie_norma.embed.asjp.lea_rat0.01.lr_dec1.0.n_epo15.n_hid400.n_ite_seq100.n_lay_dec1.n_lay_den1.n_lay_enc1.adagr.chara.outpu.vie_emb_ipa..tsv'",
     "output_type": "error",
     "traceback": [
      "\u001b[0;31m---------------------------------------------------------------------------\u001b[0m",
      "\u001b[0;31mFileNotFoundError\u001b[0m                         Traceback (most recent call last)",
      "\u001b[0;32m~/git/prediction-histling/cognatedetection/cd.py\u001b[0m in \u001b[0;36mcognate_detection_cluster\u001b[0;34m(lang_pairs, results_dir, options, use_distance, methods, thresholds)\u001b[0m\n\u001b[1;32m    123\u001b[0m         \u001b[0mconcepts_path\u001b[0m \u001b[0;34m=\u001b[0m \u001b[0mutility\u001b[0m\u001b[0;34m.\u001b[0m\u001b[0mget_results_path\u001b[0m\u001b[0;34m(\u001b[0m\u001b[0mlang_a\u001b[0m\u001b[0;34m,\u001b[0m \u001b[0mlang_b\u001b[0m\u001b[0;34m,\u001b[0m \u001b[0mresults_dir\u001b[0m\u001b[0;34m,\u001b[0m \u001b[0moptions\u001b[0m\u001b[0;34m)\u001b[0m\u001b[0;34m\u001b[0m\u001b[0;34m\u001b[0m\u001b[0m\n\u001b[0;32m--> 124\u001b[0;31m         \u001b[0mdf\u001b[0m \u001b[0;34m=\u001b[0m \u001b[0mpd\u001b[0m\u001b[0;34m.\u001b[0m\u001b[0mread_csv\u001b[0m\u001b[0;34m(\u001b[0m\u001b[0mconcepts_path\u001b[0m \u001b[0;34m+\u001b[0m \u001b[0;34m\".tsv\"\u001b[0m\u001b[0;34m,\u001b[0m \u001b[0msep\u001b[0m\u001b[0;34m=\u001b[0m\u001b[0;34m\"\\t\"\u001b[0m\u001b[0;34m)\u001b[0m\u001b[0;34m\u001b[0m\u001b[0;34m\u001b[0m\u001b[0m\n\u001b[0m\u001b[1;32m    125\u001b[0m     \u001b[0;32mexcept\u001b[0m\u001b[0;34m:\u001b[0m\u001b[0;34m\u001b[0m\u001b[0;34m\u001b[0m\u001b[0m\n",
      "\u001b[0;32m/usr/local/lib/python3.8/dist-packages/pandas/io/parsers.py\u001b[0m in \u001b[0;36mread_csv\u001b[0;34m(filepath_or_buffer, sep, delimiter, header, names, index_col, usecols, squeeze, prefix, mangle_dupe_cols, dtype, engine, converters, true_values, false_values, skipinitialspace, skiprows, skipfooter, nrows, na_values, keep_default_na, na_filter, verbose, skip_blank_lines, parse_dates, infer_datetime_format, keep_date_col, date_parser, dayfirst, cache_dates, iterator, chunksize, compression, thousands, decimal, lineterminator, quotechar, quoting, doublequote, escapechar, comment, encoding, dialect, error_bad_lines, warn_bad_lines, delim_whitespace, low_memory, memory_map, float_precision, storage_options)\u001b[0m\n\u001b[1;32m    604\u001b[0m \u001b[0;34m\u001b[0m\u001b[0m\n\u001b[0;32m--> 605\u001b[0;31m     \u001b[0;32mreturn\u001b[0m \u001b[0m_read\u001b[0m\u001b[0;34m(\u001b[0m\u001b[0mfilepath_or_buffer\u001b[0m\u001b[0;34m,\u001b[0m \u001b[0mkwds\u001b[0m\u001b[0;34m)\u001b[0m\u001b[0;34m\u001b[0m\u001b[0;34m\u001b[0m\u001b[0m\n\u001b[0m\u001b[1;32m    606\u001b[0m \u001b[0;34m\u001b[0m\u001b[0m\n",
      "\u001b[0;32m/usr/local/lib/python3.8/dist-packages/pandas/io/parsers.py\u001b[0m in \u001b[0;36m_read\u001b[0;34m(filepath_or_buffer, kwds)\u001b[0m\n\u001b[1;32m    456\u001b[0m     \u001b[0;31m# Create the parser.\u001b[0m\u001b[0;34m\u001b[0m\u001b[0;34m\u001b[0m\u001b[0;34m\u001b[0m\u001b[0m\n\u001b[0;32m--> 457\u001b[0;31m     \u001b[0mparser\u001b[0m \u001b[0;34m=\u001b[0m \u001b[0mTextFileReader\u001b[0m\u001b[0;34m(\u001b[0m\u001b[0mfilepath_or_buffer\u001b[0m\u001b[0;34m,\u001b[0m \u001b[0;34m**\u001b[0m\u001b[0mkwds\u001b[0m\u001b[0;34m)\u001b[0m\u001b[0;34m\u001b[0m\u001b[0;34m\u001b[0m\u001b[0m\n\u001b[0m\u001b[1;32m    458\u001b[0m \u001b[0;34m\u001b[0m\u001b[0m\n",
      "\u001b[0;32m/usr/local/lib/python3.8/dist-packages/pandas/io/parsers.py\u001b[0m in \u001b[0;36m__init__\u001b[0;34m(self, f, engine, **kwds)\u001b[0m\n\u001b[1;32m    813\u001b[0m \u001b[0;34m\u001b[0m\u001b[0m\n\u001b[0;32m--> 814\u001b[0;31m         \u001b[0mself\u001b[0m\u001b[0;34m.\u001b[0m\u001b[0m_engine\u001b[0m \u001b[0;34m=\u001b[0m \u001b[0mself\u001b[0m\u001b[0;34m.\u001b[0m\u001b[0m_make_engine\u001b[0m\u001b[0;34m(\u001b[0m\u001b[0mself\u001b[0m\u001b[0;34m.\u001b[0m\u001b[0mengine\u001b[0m\u001b[0;34m)\u001b[0m\u001b[0;34m\u001b[0m\u001b[0;34m\u001b[0m\u001b[0m\n\u001b[0m\u001b[1;32m    815\u001b[0m \u001b[0;34m\u001b[0m\u001b[0m\n",
      "\u001b[0;32m/usr/local/lib/python3.8/dist-packages/pandas/io/parsers.py\u001b[0m in \u001b[0;36m_make_engine\u001b[0;34m(self, engine)\u001b[0m\n\u001b[1;32m   1044\u001b[0m         \u001b[0;31m# error: Too many arguments for \"ParserBase\"\u001b[0m\u001b[0;34m\u001b[0m\u001b[0;34m\u001b[0m\u001b[0;34m\u001b[0m\u001b[0m\n\u001b[0;32m-> 1045\u001b[0;31m         \u001b[0;32mreturn\u001b[0m \u001b[0mmapping\u001b[0m\u001b[0;34m[\u001b[0m\u001b[0mengine\u001b[0m\u001b[0;34m]\u001b[0m\u001b[0;34m(\u001b[0m\u001b[0mself\u001b[0m\u001b[0;34m.\u001b[0m\u001b[0mf\u001b[0m\u001b[0;34m,\u001b[0m \u001b[0;34m**\u001b[0m\u001b[0mself\u001b[0m\u001b[0;34m.\u001b[0m\u001b[0moptions\u001b[0m\u001b[0;34m)\u001b[0m  \u001b[0;31m# type: ignore[call-arg]\u001b[0m\u001b[0;34m\u001b[0m\u001b[0;34m\u001b[0m\u001b[0m\n\u001b[0m\u001b[1;32m   1046\u001b[0m \u001b[0;34m\u001b[0m\u001b[0m\n",
      "\u001b[0;32m/usr/local/lib/python3.8/dist-packages/pandas/io/parsers.py\u001b[0m in \u001b[0;36m__init__\u001b[0;34m(self, src, **kwds)\u001b[0m\n\u001b[1;32m   1861\u001b[0m         \u001b[0;31m# open handles\u001b[0m\u001b[0;34m\u001b[0m\u001b[0;34m\u001b[0m\u001b[0;34m\u001b[0m\u001b[0m\n\u001b[0;32m-> 1862\u001b[0;31m         \u001b[0mself\u001b[0m\u001b[0;34m.\u001b[0m\u001b[0m_open_handles\u001b[0m\u001b[0;34m(\u001b[0m\u001b[0msrc\u001b[0m\u001b[0;34m,\u001b[0m \u001b[0mkwds\u001b[0m\u001b[0;34m)\u001b[0m\u001b[0;34m\u001b[0m\u001b[0;34m\u001b[0m\u001b[0m\n\u001b[0m\u001b[1;32m   1863\u001b[0m         \u001b[0;32massert\u001b[0m \u001b[0mself\u001b[0m\u001b[0;34m.\u001b[0m\u001b[0mhandles\u001b[0m \u001b[0;32mis\u001b[0m \u001b[0;32mnot\u001b[0m \u001b[0;32mNone\u001b[0m\u001b[0;34m\u001b[0m\u001b[0;34m\u001b[0m\u001b[0m\n",
      "\u001b[0;32m/usr/local/lib/python3.8/dist-packages/pandas/io/parsers.py\u001b[0m in \u001b[0;36m_open_handles\u001b[0;34m(self, src, kwds)\u001b[0m\n\u001b[1;32m   1356\u001b[0m         \"\"\"\n\u001b[0;32m-> 1357\u001b[0;31m         self.handles = get_handle(\n\u001b[0m\u001b[1;32m   1358\u001b[0m             \u001b[0msrc\u001b[0m\u001b[0;34m,\u001b[0m\u001b[0;34m\u001b[0m\u001b[0;34m\u001b[0m\u001b[0m\n",
      "\u001b[0;32m/usr/local/lib/python3.8/dist-packages/pandas/io/common.py\u001b[0m in \u001b[0;36mget_handle\u001b[0;34m(path_or_buf, mode, encoding, compression, memory_map, is_text, errors, storage_options)\u001b[0m\n\u001b[1;32m    638\u001b[0m             \u001b[0;31m# Encoding\u001b[0m\u001b[0;34m\u001b[0m\u001b[0;34m\u001b[0m\u001b[0;34m\u001b[0m\u001b[0m\n\u001b[0;32m--> 639\u001b[0;31m             handle = open(\n\u001b[0m\u001b[1;32m    640\u001b[0m                 \u001b[0mhandle\u001b[0m\u001b[0;34m,\u001b[0m\u001b[0;34m\u001b[0m\u001b[0;34m\u001b[0m\u001b[0m\n",
      "\u001b[0;31mFileNotFoundError\u001b[0m: [Errno 2] No such file or directory: 'output/nld-deu.bat_siz10.bid_enc.v1.4..v1.4..cog_pri1.0.dro0.1.asjp_phone_featu_new.t.fil_tra1.0.gru.gra_cli100.xavie_norma.embed.asjp.lea_rat0.01.lr_dec1.0.n_epo15.n_hid400.n_ite_seq100.n_lay_dec1.n_lay_den1.n_lay_enc1.adagr.chara.outpu.vie_emb_ipa..tsv'",
      "\nDuring handling of the above exception, another exception occurred:\n",
      "\u001b[0;31mFileNotFoundError\u001b[0m                         Traceback (most recent call last)",
      "\u001b[0;32m<ipython-input-7-742b3554d3ff>\u001b[0m in \u001b[0;36m<module>\u001b[0;34m\u001b[0m\n\u001b[1;32m      3\u001b[0m \u001b[0;34m\u001b[0m\u001b[0m\n\u001b[1;32m      4\u001b[0m \u001b[0mprint\u001b[0m\u001b[0;34m(\u001b[0m\u001b[0;34m\"Performing WP cognate detection using clustering...\"\u001b[0m\u001b[0;34m)\u001b[0m\u001b[0;34m\u001b[0m\u001b[0;34m\u001b[0m\u001b[0m\n\u001b[0;32m----> 5\u001b[0;31m \u001b[0mresults_table\u001b[0m \u001b[0;34m=\u001b[0m \u001b[0mcd\u001b[0m\u001b[0;34m.\u001b[0m\u001b[0mcognate_detection_cluster\u001b[0m\u001b[0;34m(\u001b[0m\u001b[0mlang_pairs\u001b[0m\u001b[0;34m,\u001b[0m \u001b[0mconfig\u001b[0m\u001b[0;34m[\u001b[0m\u001b[0;34m\"results_dir\"\u001b[0m\u001b[0;34m]\u001b[0m\u001b[0;34m,\u001b[0m \u001b[0moptions\u001b[0m\u001b[0;34m,\u001b[0m \u001b[0muse_distance\u001b[0m\u001b[0;34m=\u001b[0m\u001b[0;34m\"prediction\"\u001b[0m\u001b[0;34m)\u001b[0m\u001b[0;34m\u001b[0m\u001b[0;34m\u001b[0m\u001b[0m\n\u001b[0m\u001b[1;32m      6\u001b[0m \u001b[0mprint\u001b[0m\u001b[0;34m(\u001b[0m\u001b[0mresults_table\u001b[0m\u001b[0;34m)\u001b[0m\u001b[0;34m\u001b[0m\u001b[0;34m\u001b[0m\u001b[0m\n",
      "\u001b[0;32m~/git/prediction-histling/cognatedetection/cd.py\u001b[0m in \u001b[0;36mcognate_detection_cluster\u001b[0;34m(lang_pairs, results_dir, options, use_distance, methods, thresholds)\u001b[0m\n\u001b[1;32m    126\u001b[0m         \u001b[0;31m# If it fails, try reverse pair\u001b[0m\u001b[0;34m\u001b[0m\u001b[0;34m\u001b[0m\u001b[0;34m\u001b[0m\u001b[0m\n\u001b[1;32m    127\u001b[0m         \u001b[0mconcepts_path\u001b[0m \u001b[0;34m=\u001b[0m \u001b[0mutility\u001b[0m\u001b[0;34m.\u001b[0m\u001b[0mget_results_path\u001b[0m\u001b[0;34m(\u001b[0m\u001b[0mlang_b\u001b[0m\u001b[0;34m,\u001b[0m \u001b[0mlang_a\u001b[0m\u001b[0;34m,\u001b[0m \u001b[0mresults_dir\u001b[0m\u001b[0;34m,\u001b[0m \u001b[0moptions\u001b[0m\u001b[0;34m)\u001b[0m\u001b[0;34m\u001b[0m\u001b[0;34m\u001b[0m\u001b[0m\n\u001b[0;32m--> 128\u001b[0;31m         \u001b[0mdf\u001b[0m \u001b[0;34m=\u001b[0m \u001b[0mpd\u001b[0m\u001b[0;34m.\u001b[0m\u001b[0mread_csv\u001b[0m\u001b[0;34m(\u001b[0m\u001b[0mconcepts_path\u001b[0m \u001b[0;34m+\u001b[0m \u001b[0;34m\".tsv\"\u001b[0m\u001b[0;34m,\u001b[0m \u001b[0msep\u001b[0m\u001b[0;34m=\u001b[0m\u001b[0;34m\"\\t\"\u001b[0m\u001b[0;34m)\u001b[0m\u001b[0;34m\u001b[0m\u001b[0;34m\u001b[0m\u001b[0m\n\u001b[0m\u001b[1;32m    129\u001b[0m     \u001b[0mconcepts\u001b[0m \u001b[0;34m=\u001b[0m \u001b[0mlist\u001b[0m\u001b[0;34m(\u001b[0m\u001b[0mdf\u001b[0m\u001b[0;34m[\u001b[0m\u001b[0;34m\"CONCEPT\"\u001b[0m\u001b[0;34m]\u001b[0m\u001b[0;34m)\u001b[0m\u001b[0;34m\u001b[0m\u001b[0;34m\u001b[0m\u001b[0m\n\u001b[1;32m    130\u001b[0m     \u001b[0mmax_dist\u001b[0m \u001b[0;34m=\u001b[0m \u001b[0;36m1.0\u001b[0m\u001b[0;34m\u001b[0m\u001b[0;34m\u001b[0m\u001b[0m\n",
      "\u001b[0;32m/usr/local/lib/python3.8/dist-packages/pandas/io/parsers.py\u001b[0m in \u001b[0;36mread_csv\u001b[0;34m(filepath_or_buffer, sep, delimiter, header, names, index_col, usecols, squeeze, prefix, mangle_dupe_cols, dtype, engine, converters, true_values, false_values, skipinitialspace, skiprows, skipfooter, nrows, na_values, keep_default_na, na_filter, verbose, skip_blank_lines, parse_dates, infer_datetime_format, keep_date_col, date_parser, dayfirst, cache_dates, iterator, chunksize, compression, thousands, decimal, lineterminator, quotechar, quoting, doublequote, escapechar, comment, encoding, dialect, error_bad_lines, warn_bad_lines, delim_whitespace, low_memory, memory_map, float_precision, storage_options)\u001b[0m\n\u001b[1;32m    603\u001b[0m     \u001b[0mkwds\u001b[0m\u001b[0;34m.\u001b[0m\u001b[0mupdate\u001b[0m\u001b[0;34m(\u001b[0m\u001b[0mkwds_defaults\u001b[0m\u001b[0;34m)\u001b[0m\u001b[0;34m\u001b[0m\u001b[0;34m\u001b[0m\u001b[0m\n\u001b[1;32m    604\u001b[0m \u001b[0;34m\u001b[0m\u001b[0m\n\u001b[0;32m--> 605\u001b[0;31m     \u001b[0;32mreturn\u001b[0m \u001b[0m_read\u001b[0m\u001b[0;34m(\u001b[0m\u001b[0mfilepath_or_buffer\u001b[0m\u001b[0;34m,\u001b[0m \u001b[0mkwds\u001b[0m\u001b[0;34m)\u001b[0m\u001b[0;34m\u001b[0m\u001b[0;34m\u001b[0m\u001b[0m\n\u001b[0m\u001b[1;32m    606\u001b[0m \u001b[0;34m\u001b[0m\u001b[0m\n\u001b[1;32m    607\u001b[0m \u001b[0;34m\u001b[0m\u001b[0m\n",
      "\u001b[0;32m/usr/local/lib/python3.8/dist-packages/pandas/io/parsers.py\u001b[0m in \u001b[0;36m_read\u001b[0;34m(filepath_or_buffer, kwds)\u001b[0m\n\u001b[1;32m    455\u001b[0m \u001b[0;34m\u001b[0m\u001b[0m\n\u001b[1;32m    456\u001b[0m     \u001b[0;31m# Create the parser.\u001b[0m\u001b[0;34m\u001b[0m\u001b[0;34m\u001b[0m\u001b[0;34m\u001b[0m\u001b[0m\n\u001b[0;32m--> 457\u001b[0;31m     \u001b[0mparser\u001b[0m \u001b[0;34m=\u001b[0m \u001b[0mTextFileReader\u001b[0m\u001b[0;34m(\u001b[0m\u001b[0mfilepath_or_buffer\u001b[0m\u001b[0;34m,\u001b[0m \u001b[0;34m**\u001b[0m\u001b[0mkwds\u001b[0m\u001b[0;34m)\u001b[0m\u001b[0;34m\u001b[0m\u001b[0;34m\u001b[0m\u001b[0m\n\u001b[0m\u001b[1;32m    458\u001b[0m \u001b[0;34m\u001b[0m\u001b[0m\n\u001b[1;32m    459\u001b[0m     \u001b[0;32mif\u001b[0m \u001b[0mchunksize\u001b[0m \u001b[0;32mor\u001b[0m \u001b[0miterator\u001b[0m\u001b[0;34m:\u001b[0m\u001b[0;34m\u001b[0m\u001b[0;34m\u001b[0m\u001b[0m\n",
      "\u001b[0;32m/usr/local/lib/python3.8/dist-packages/pandas/io/parsers.py\u001b[0m in \u001b[0;36m__init__\u001b[0;34m(self, f, engine, **kwds)\u001b[0m\n\u001b[1;32m    812\u001b[0m             \u001b[0mself\u001b[0m\u001b[0;34m.\u001b[0m\u001b[0moptions\u001b[0m\u001b[0;34m[\u001b[0m\u001b[0;34m\"has_index_names\"\u001b[0m\u001b[0;34m]\u001b[0m \u001b[0;34m=\u001b[0m \u001b[0mkwds\u001b[0m\u001b[0;34m[\u001b[0m\u001b[0;34m\"has_index_names\"\u001b[0m\u001b[0;34m]\u001b[0m\u001b[0;34m\u001b[0m\u001b[0;34m\u001b[0m\u001b[0m\n\u001b[1;32m    813\u001b[0m \u001b[0;34m\u001b[0m\u001b[0m\n\u001b[0;32m--> 814\u001b[0;31m         \u001b[0mself\u001b[0m\u001b[0;34m.\u001b[0m\u001b[0m_engine\u001b[0m \u001b[0;34m=\u001b[0m \u001b[0mself\u001b[0m\u001b[0;34m.\u001b[0m\u001b[0m_make_engine\u001b[0m\u001b[0;34m(\u001b[0m\u001b[0mself\u001b[0m\u001b[0;34m.\u001b[0m\u001b[0mengine\u001b[0m\u001b[0;34m)\u001b[0m\u001b[0;34m\u001b[0m\u001b[0;34m\u001b[0m\u001b[0m\n\u001b[0m\u001b[1;32m    815\u001b[0m \u001b[0;34m\u001b[0m\u001b[0m\n\u001b[1;32m    816\u001b[0m     \u001b[0;32mdef\u001b[0m \u001b[0mclose\u001b[0m\u001b[0;34m(\u001b[0m\u001b[0mself\u001b[0m\u001b[0;34m)\u001b[0m\u001b[0;34m:\u001b[0m\u001b[0;34m\u001b[0m\u001b[0;34m\u001b[0m\u001b[0m\n",
      "\u001b[0;32m/usr/local/lib/python3.8/dist-packages/pandas/io/parsers.py\u001b[0m in \u001b[0;36m_make_engine\u001b[0;34m(self, engine)\u001b[0m\n\u001b[1;32m   1043\u001b[0m             )\n\u001b[1;32m   1044\u001b[0m         \u001b[0;31m# error: Too many arguments for \"ParserBase\"\u001b[0m\u001b[0;34m\u001b[0m\u001b[0;34m\u001b[0m\u001b[0;34m\u001b[0m\u001b[0m\n\u001b[0;32m-> 1045\u001b[0;31m         \u001b[0;32mreturn\u001b[0m \u001b[0mmapping\u001b[0m\u001b[0;34m[\u001b[0m\u001b[0mengine\u001b[0m\u001b[0;34m]\u001b[0m\u001b[0;34m(\u001b[0m\u001b[0mself\u001b[0m\u001b[0;34m.\u001b[0m\u001b[0mf\u001b[0m\u001b[0;34m,\u001b[0m \u001b[0;34m**\u001b[0m\u001b[0mself\u001b[0m\u001b[0;34m.\u001b[0m\u001b[0moptions\u001b[0m\u001b[0;34m)\u001b[0m  \u001b[0;31m# type: ignore[call-arg]\u001b[0m\u001b[0;34m\u001b[0m\u001b[0;34m\u001b[0m\u001b[0m\n\u001b[0m\u001b[1;32m   1046\u001b[0m \u001b[0;34m\u001b[0m\u001b[0m\n\u001b[1;32m   1047\u001b[0m     \u001b[0;32mdef\u001b[0m \u001b[0m_failover_to_python\u001b[0m\u001b[0;34m(\u001b[0m\u001b[0mself\u001b[0m\u001b[0;34m)\u001b[0m\u001b[0;34m:\u001b[0m\u001b[0;34m\u001b[0m\u001b[0;34m\u001b[0m\u001b[0m\n",
      "\u001b[0;32m/usr/local/lib/python3.8/dist-packages/pandas/io/parsers.py\u001b[0m in \u001b[0;36m__init__\u001b[0;34m(self, src, **kwds)\u001b[0m\n\u001b[1;32m   1860\u001b[0m \u001b[0;34m\u001b[0m\u001b[0m\n\u001b[1;32m   1861\u001b[0m         \u001b[0;31m# open handles\u001b[0m\u001b[0;34m\u001b[0m\u001b[0;34m\u001b[0m\u001b[0;34m\u001b[0m\u001b[0m\n\u001b[0;32m-> 1862\u001b[0;31m         \u001b[0mself\u001b[0m\u001b[0;34m.\u001b[0m\u001b[0m_open_handles\u001b[0m\u001b[0;34m(\u001b[0m\u001b[0msrc\u001b[0m\u001b[0;34m,\u001b[0m \u001b[0mkwds\u001b[0m\u001b[0;34m)\u001b[0m\u001b[0;34m\u001b[0m\u001b[0;34m\u001b[0m\u001b[0m\n\u001b[0m\u001b[1;32m   1863\u001b[0m         \u001b[0;32massert\u001b[0m \u001b[0mself\u001b[0m\u001b[0;34m.\u001b[0m\u001b[0mhandles\u001b[0m \u001b[0;32mis\u001b[0m \u001b[0;32mnot\u001b[0m \u001b[0;32mNone\u001b[0m\u001b[0;34m\u001b[0m\u001b[0;34m\u001b[0m\u001b[0m\n\u001b[1;32m   1864\u001b[0m         \u001b[0;32mfor\u001b[0m \u001b[0mkey\u001b[0m \u001b[0;32min\u001b[0m \u001b[0;34m(\u001b[0m\u001b[0;34m\"storage_options\"\u001b[0m\u001b[0;34m,\u001b[0m \u001b[0;34m\"encoding\"\u001b[0m\u001b[0;34m,\u001b[0m \u001b[0;34m\"memory_map\"\u001b[0m\u001b[0;34m,\u001b[0m \u001b[0;34m\"compression\"\u001b[0m\u001b[0;34m)\u001b[0m\u001b[0;34m:\u001b[0m\u001b[0;34m\u001b[0m\u001b[0;34m\u001b[0m\u001b[0m\n",
      "\u001b[0;32m/usr/local/lib/python3.8/dist-packages/pandas/io/parsers.py\u001b[0m in \u001b[0;36m_open_handles\u001b[0;34m(self, src, kwds)\u001b[0m\n\u001b[1;32m   1355\u001b[0m         \u001b[0mLet\u001b[0m \u001b[0mthe\u001b[0m \u001b[0mreaders\u001b[0m \u001b[0mopen\u001b[0m \u001b[0mIOHanldes\u001b[0m \u001b[0mafter\u001b[0m \u001b[0mthey\u001b[0m \u001b[0mare\u001b[0m \u001b[0mdone\u001b[0m \u001b[0;32mwith\u001b[0m \u001b[0mtheir\u001b[0m \u001b[0mpotential\u001b[0m \u001b[0mraises\u001b[0m\u001b[0;34m.\u001b[0m\u001b[0;34m\u001b[0m\u001b[0;34m\u001b[0m\u001b[0m\n\u001b[1;32m   1356\u001b[0m         \"\"\"\n\u001b[0;32m-> 1357\u001b[0;31m         self.handles = get_handle(\n\u001b[0m\u001b[1;32m   1358\u001b[0m             \u001b[0msrc\u001b[0m\u001b[0;34m,\u001b[0m\u001b[0;34m\u001b[0m\u001b[0;34m\u001b[0m\u001b[0m\n\u001b[1;32m   1359\u001b[0m             \u001b[0;34m\"r\"\u001b[0m\u001b[0;34m,\u001b[0m\u001b[0;34m\u001b[0m\u001b[0;34m\u001b[0m\u001b[0m\n",
      "\u001b[0;32m/usr/local/lib/python3.8/dist-packages/pandas/io/common.py\u001b[0m in \u001b[0;36mget_handle\u001b[0;34m(path_or_buf, mode, encoding, compression, memory_map, is_text, errors, storage_options)\u001b[0m\n\u001b[1;32m    637\u001b[0m         \u001b[0;32mif\u001b[0m \u001b[0mioargs\u001b[0m\u001b[0;34m.\u001b[0m\u001b[0mencoding\u001b[0m \u001b[0;32mand\u001b[0m \u001b[0;34m\"b\"\u001b[0m \u001b[0;32mnot\u001b[0m \u001b[0;32min\u001b[0m \u001b[0mioargs\u001b[0m\u001b[0;34m.\u001b[0m\u001b[0mmode\u001b[0m\u001b[0;34m:\u001b[0m\u001b[0;34m\u001b[0m\u001b[0;34m\u001b[0m\u001b[0m\n\u001b[1;32m    638\u001b[0m             \u001b[0;31m# Encoding\u001b[0m\u001b[0;34m\u001b[0m\u001b[0;34m\u001b[0m\u001b[0;34m\u001b[0m\u001b[0m\n\u001b[0;32m--> 639\u001b[0;31m             handle = open(\n\u001b[0m\u001b[1;32m    640\u001b[0m                 \u001b[0mhandle\u001b[0m\u001b[0;34m,\u001b[0m\u001b[0;34m\u001b[0m\u001b[0;34m\u001b[0m\u001b[0m\n\u001b[1;32m    641\u001b[0m                 \u001b[0mioargs\u001b[0m\u001b[0;34m.\u001b[0m\u001b[0mmode\u001b[0m\u001b[0;34m,\u001b[0m\u001b[0;34m\u001b[0m\u001b[0;34m\u001b[0m\u001b[0m\n",
      "\u001b[0;31mFileNotFoundError\u001b[0m: [Errno 2] No such file or directory: 'output/deu-nld.bat_siz10.bid_enc.v1.4..v1.4..cog_pri1.0.dro0.1.asjp_phone_featu_new.t.fil_tra1.0.gru.gra_cli100.xavie_norma.embed.asjp.lea_rat0.01.lr_dec1.0.n_epo15.n_hid400.n_ite_seq100.n_lay_dec1.n_lay_den1.n_lay_enc1.adagr.chara.outpu.vie_emb_ipa..tsv'"
     ]
    }
   ],
   "source": [
    "from cognatedetection import cd\n",
    "\n",
    "\n",
    "print(\"Performing WP cognate detection using clustering...\")\n",
    "results_table = cd.cognate_detection_cluster(lang_pairs, config[\"results_dir\"], options, use_distance=\"prediction\")\n",
    "print(results_table)"
   ]
  },
  {
   "cell_type": "code",
   "execution_count": null,
   "metadata": {},
   "outputs": [],
   "source": []
  }
 ],
 "metadata": {
  "kernelspec": {
   "display_name": "Python 3",
   "language": "python",
   "name": "python3"
  },
  "language_info": {
   "codemirror_mode": {
    "name": "ipython",
    "version": 3
   },
   "file_extension": ".py",
   "mimetype": "text/x-python",
   "name": "python",
   "nbconvert_exporter": "python",
   "pygments_lexer": "ipython3",
   "version": "3.8.5"
  }
 },
 "nbformat": 4,
 "nbformat_minor": 2
}
